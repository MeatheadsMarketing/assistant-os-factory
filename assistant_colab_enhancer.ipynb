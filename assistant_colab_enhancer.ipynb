{
 "cells": [
  {
   "cell_type": "markdown",
   "id": "539dd232",
   "metadata": {},
   "source": [
    "# 🧠 Assistant Colab Enhancer (Full Modular Assistant Factory)"
   ]
  },
  {
   "cell_type": "code",
   "execution_count": null,
   "id": "a9b6353c",
   "metadata": {},
   "outputs": [],
   "source": [
    "from google.colab import drive\n",
    "drive.mount('/content/drive')\n",
    "\n",
    "import os\n",
    "\n",
    "INPUT_DIR = \"/content/drive/MyDrive/assistant_markdown/raw/\"\n",
    "OUTPUT_DIR = \"/content/drive/MyDrive/assistant_markdown/processed/\"\n",
    "LAUNCHER_DIR = \"/content/drive/MyDrive/assistant_markdown/streamlit_ready/\"\n",
    "ZIP_EXPORT_PATH = \"/content/drive/MyDrive/assistant_markdown/assistant_bundle.zip\"\n",
    "\n",
    "os.makedirs(INPUT_DIR, exist_ok=True)\n",
    "os.makedirs(OUTPUT_DIR, exist_ok=True)\n",
    "os.makedirs(LAUNCHER_DIR, exist_ok=True)\n"
   ]
  }
 ],
 "metadata": {},
 "nbformat": 4,
 "nbformat_minor": 5
}
